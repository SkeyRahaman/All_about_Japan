{
 "cells": [
  {
   "cell_type": "code",
   "execution_count": 2,
   "metadata": {},
   "outputs": [],
   "source": [
    "import numpy as nm\n",
    "import pandas as pd\n",
    "import seaborn as sns\n",
    "import matplotlib.pyplot as plt \n",
    "%matplotlib inline"
   ]
  },
  {
   "cell_type": "code",
   "execution_count": 3,
   "metadata": {},
   "outputs": [],
   "source": [
    "data = pd.read_csv('Indicators.csv')"
   ]
  },
  {
   "cell_type": "code",
   "execution_count": 4,
   "metadata": {},
   "outputs": [
    {
     "data": {
      "text/plain": [
       "Index(['CountryName', 'CountryCode', 'IndicatorName', 'IndicatorCode', 'Year',\n",
       "       'Value'],\n",
       "      dtype='object')"
      ]
     },
     "execution_count": 4,
     "metadata": {},
     "output_type": "execute_result"
    }
   ],
   "source": [
    "data.columns"
   ]
  },
  {
   "cell_type": "code",
   "execution_count": 5,
   "metadata": {},
   "outputs": [
    {
     "data": {
      "text/html": [
       "<div>\n",
       "<style scoped>\n",
       "    .dataframe tbody tr th:only-of-type {\n",
       "        vertical-align: middle;\n",
       "    }\n",
       "\n",
       "    .dataframe tbody tr th {\n",
       "        vertical-align: top;\n",
       "    }\n",
       "\n",
       "    .dataframe thead th {\n",
       "        text-align: right;\n",
       "    }\n",
       "</style>\n",
       "<table border=\"1\" class=\"dataframe\">\n",
       "  <thead>\n",
       "    <tr style=\"text-align: right;\">\n",
       "      <th></th>\n",
       "      <th>CountryName</th>\n",
       "      <th>CountryCode</th>\n",
       "      <th>IndicatorName</th>\n",
       "      <th>IndicatorCode</th>\n",
       "      <th>Year</th>\n",
       "      <th>Value</th>\n",
       "    </tr>\n",
       "  </thead>\n",
       "  <tbody>\n",
       "    <tr>\n",
       "      <th>12804</th>\n",
       "      <td>Japan</td>\n",
       "      <td>JPN</td>\n",
       "      <td>Adolescent fertility rate (births per 1,000 wo...</td>\n",
       "      <td>SP.ADO.TFRT</td>\n",
       "      <td>1960</td>\n",
       "      <td>4.120200</td>\n",
       "    </tr>\n",
       "    <tr>\n",
       "      <th>12805</th>\n",
       "      <td>Japan</td>\n",
       "      <td>JPN</td>\n",
       "      <td>Age dependency ratio (% of working-age populat...</td>\n",
       "      <td>SP.POP.DPND</td>\n",
       "      <td>1960</td>\n",
       "      <td>55.970117</td>\n",
       "    </tr>\n",
       "    <tr>\n",
       "      <th>12806</th>\n",
       "      <td>Japan</td>\n",
       "      <td>JPN</td>\n",
       "      <td>Age dependency ratio, old (% of working-age po...</td>\n",
       "      <td>SP.POP.DPND.OL</td>\n",
       "      <td>1960</td>\n",
       "      <td>8.930725</td>\n",
       "    </tr>\n",
       "    <tr>\n",
       "      <th>12807</th>\n",
       "      <td>Japan</td>\n",
       "      <td>JPN</td>\n",
       "      <td>Age dependency ratio, young (% of working-age ...</td>\n",
       "      <td>SP.POP.DPND.YG</td>\n",
       "      <td>1960</td>\n",
       "      <td>47.039393</td>\n",
       "    </tr>\n",
       "    <tr>\n",
       "      <th>12808</th>\n",
       "      <td>Japan</td>\n",
       "      <td>JPN</td>\n",
       "      <td>Alternative and nuclear energy (% of total ene...</td>\n",
       "      <td>EG.USE.COMM.CL.ZS</td>\n",
       "      <td>1960</td>\n",
       "      <td>6.223620</td>\n",
       "    </tr>\n",
       "  </tbody>\n",
       "</table>\n",
       "</div>"
      ],
      "text/plain": [
       "      CountryName CountryCode  \\\n",
       "12804       Japan         JPN   \n",
       "12805       Japan         JPN   \n",
       "12806       Japan         JPN   \n",
       "12807       Japan         JPN   \n",
       "12808       Japan         JPN   \n",
       "\n",
       "                                           IndicatorName      IndicatorCode  \\\n",
       "12804  Adolescent fertility rate (births per 1,000 wo...        SP.ADO.TFRT   \n",
       "12805  Age dependency ratio (% of working-age populat...        SP.POP.DPND   \n",
       "12806  Age dependency ratio, old (% of working-age po...     SP.POP.DPND.OL   \n",
       "12807  Age dependency ratio, young (% of working-age ...     SP.POP.DPND.YG   \n",
       "12808  Alternative and nuclear energy (% of total ene...  EG.USE.COMM.CL.ZS   \n",
       "\n",
       "       Year      Value  \n",
       "12804  1960   4.120200  \n",
       "12805  1960  55.970117  \n",
       "12806  1960   8.930725  \n",
       "12807  1960  47.039393  \n",
       "12808  1960   6.223620  "
      ]
     },
     "execution_count": 5,
     "metadata": {},
     "output_type": "execute_result"
    }
   ],
   "source": [
    "data = data[data['CountryName'] == 'Japan']\n",
    "data.head()"
   ]
  },
  {
   "cell_type": "code",
   "execution_count": 6,
   "metadata": {
    "scrolled": false
   },
   "outputs": [
    {
     "data": {
      "text/plain": [
       "GDP deflator (base year varies by country)                                                                         55\n",
       "Merchandise imports from developing economies in Latin America & the Caribbean (% of total merchandise imports)    55\n",
       "Merchandise exports to developing economies in East Asia & Pacific (% of total merchandise exports)                55\n",
       "GNI per capita (current LCU)                                                                                       55\n",
       "Wholesale price index (2010 = 100)                                                                                 55\n",
       "Population, ages 15-64 (% of total)                                                                                55\n",
       "Population, ages 0-14 (% of total)                                                                                 55\n",
       "Total reserves (includes gold, current US$)                                                                        55\n",
       "Merchandise exports to developing economies in South Asia (% of total merchandise exports)                         55\n",
       "Merchandise imports from developing economies in Middle East & North Africa (% of total merchandise imports)       55\n",
       "Merchandise imports by the reporting economy (current US$)                                                         55\n",
       "Merchandise exports to developing economies outside region (% of total merchandise exports)                        55\n",
       "Urban population                                                                                                   55\n",
       "Arms imports (SIPRI trend indicator values)                                                                        55\n",
       "Merchandise imports from developing economies in Sub-Saharan Africa (% of total merchandise imports)               55\n",
       "Population, female (% of total)                                                                                    55\n",
       "GDP (constant LCU)                                                                                                 55\n",
       "GDP (current LCU)                                                                                                  55\n",
       "Merchandise imports from developing economies in East Asia & Pacific (% of total merchandise imports)              55\n",
       "Merchandise imports from high-income economies (% of total merchandise imports)                                    55\n",
       "Rural population growth (annual %)                                                                                 55\n",
       "GNI (current US$)                                                                                                  55\n",
       "Land area (sq. km)                                                                                                 54\n",
       "Exports as a capacity to import (constant LCU)                                                                     54\n",
       "Energy imports, net (% of energy use)                                                                              54\n",
       "General government final consumption expenditure (current LCU)                                                     54\n",
       "Life expectancy at birth, total (years)                                                                            54\n",
       "Gross fixed capital formation (constant 2005 US$)                                                                  54\n",
       "Death rate, crude (per 1,000 people)                                                                               54\n",
       "Alternative and nuclear energy (% of total energy use)                                                             54\n",
       "Birth rate, crude (per 1,000 people)                                                                               54\n",
       "Life expectancy at birth, female (years)                                                                           54\n",
       "External balance on goods and services (current LCU)                                                               54\n",
       "Net current transfers from abroad (current US$)                                                                    54\n",
       "Exports of goods and services (% of GDP)                                                                           54\n",
       "Gross fixed capital formation (% of GDP)                                                                           54\n",
       "External balance on goods and services (current US$)                                                               54\n",
       "Gross national expenditure (constant LCU)                                                                          54\n",
       "General government final consumption expenditure (% of GDP)                                                        54\n",
       "Trademark applications, total                                                                                      54\n",
       "Gross fixed capital formation (constant LCU)                                                                       54\n",
       "Inflation, consumer prices (annual %)                                                                              54\n",
       "Electricity production from hydroelectric sources (% of total)                                                     54\n",
       "Exports of goods and services (constant LCU)                                                                       54\n",
       "General government final consumption expenditure (constant 2005 US$)                                               54\n",
       "Imports of goods and services (current US$)                                                                        54\n",
       "Electricity production from oil, gas and coal sources (% of total)                                                 54\n",
       "Imports of goods and services (constant LCU)                                                                       54\n",
       "General government final consumption expenditure (constant LCU)                                                    54\n",
       "Trademark applications, direct resident                                                                            54\n",
       "Name: IndicatorName, dtype: int64"
      ]
     },
     "execution_count": 6,
     "metadata": {},
     "output_type": "execute_result"
    }
   ],
   "source": [
    "data['IndicatorName'].value_counts()[50:100]"
   ]
  },
  {
   "cell_type": "code",
   "execution_count": 7,
   "metadata": {},
   "outputs": [
    {
     "data": {
      "text/html": [
       "<div>\n",
       "<style scoped>\n",
       "    .dataframe tbody tr th:only-of-type {\n",
       "        vertical-align: middle;\n",
       "    }\n",
       "\n",
       "    .dataframe tbody tr th {\n",
       "        vertical-align: top;\n",
       "    }\n",
       "\n",
       "    .dataframe thead th {\n",
       "        text-align: right;\n",
       "    }\n",
       "</style>\n",
       "<table border=\"1\" class=\"dataframe\">\n",
       "  <thead>\n",
       "    <tr style=\"text-align: right;\">\n",
       "      <th></th>\n",
       "      <th>Year</th>\n",
       "      <th>Value</th>\n",
       "    </tr>\n",
       "  </thead>\n",
       "  <tbody>\n",
       "    <tr>\n",
       "      <th>Year</th>\n",
       "      <td>1.000000</td>\n",
       "      <td>0.064884</td>\n",
       "    </tr>\n",
       "    <tr>\n",
       "      <th>Value</th>\n",
       "      <td>0.064884</td>\n",
       "      <td>1.000000</td>\n",
       "    </tr>\n",
       "  </tbody>\n",
       "</table>\n",
       "</div>"
      ],
      "text/plain": [
       "           Year     Value\n",
       "Year   1.000000  0.064884\n",
       "Value  0.064884  1.000000"
      ]
     },
     "execution_count": 7,
     "metadata": {},
     "output_type": "execute_result"
    }
   ],
   "source": [
    "data.corr()"
   ]
  },
  {
   "cell_type": "code",
   "execution_count": null,
   "metadata": {},
   "outputs": [],
   "source": []
  },
  {
   "cell_type": "code",
   "execution_count": 8,
   "metadata": {},
   "outputs": [
    {
     "name": "stdout",
     "output_type": "stream",
     "text": [
      "<class 'pandas.core.frame.DataFrame'>\n",
      "Int64Index: 25780 entries, 12804 to 5649322\n",
      "Data columns (total 6 columns):\n",
      "CountryName      25780 non-null object\n",
      "CountryCode      25780 non-null object\n",
      "IndicatorName    25780 non-null object\n",
      "IndicatorCode    25780 non-null object\n",
      "Year             25780 non-null int64\n",
      "Value            25780 non-null float64\n",
      "dtypes: float64(1), int64(1), object(4)\n",
      "memory usage: 1.4+ MB\n"
     ]
    }
   ],
   "source": [
    "data.info()"
   ]
  },
  {
   "cell_type": "markdown",
   "metadata": {},
   "source": [
    "## population\n"
   ]
  },
  {
   "cell_type": "code",
   "execution_count": 9,
   "metadata": {},
   "outputs": [],
   "source": [
    "population_data = data[data['IndicatorName'] == 'Population, total']"
   ]
  },
  {
   "cell_type": "code",
   "execution_count": 10,
   "metadata": {
    "scrolled": true
   },
   "outputs": [
    {
     "data": {
      "text/html": [
       "<div>\n",
       "<style scoped>\n",
       "    .dataframe tbody tr th:only-of-type {\n",
       "        vertical-align: middle;\n",
       "    }\n",
       "\n",
       "    .dataframe tbody tr th {\n",
       "        vertical-align: top;\n",
       "    }\n",
       "\n",
       "    .dataframe thead th {\n",
       "        text-align: right;\n",
       "    }\n",
       "</style>\n",
       "<table border=\"1\" class=\"dataframe\">\n",
       "  <thead>\n",
       "    <tr style=\"text-align: right;\">\n",
       "      <th></th>\n",
       "      <th>CountryName</th>\n",
       "      <th>CountryCode</th>\n",
       "      <th>IndicatorName</th>\n",
       "      <th>IndicatorCode</th>\n",
       "      <th>Year</th>\n",
       "      <th>Value</th>\n",
       "    </tr>\n",
       "  </thead>\n",
       "  <tbody>\n",
       "    <tr>\n",
       "      <th>12951</th>\n",
       "      <td>Japan</td>\n",
       "      <td>JPN</td>\n",
       "      <td>Population, total</td>\n",
       "      <td>SP.POP.TOTL</td>\n",
       "      <td>1960</td>\n",
       "      <td>92500572.0</td>\n",
       "    </tr>\n",
       "    <tr>\n",
       "      <th>38061</th>\n",
       "      <td>Japan</td>\n",
       "      <td>JPN</td>\n",
       "      <td>Population, total</td>\n",
       "      <td>SP.POP.TOTL</td>\n",
       "      <td>1961</td>\n",
       "      <td>94943000.0</td>\n",
       "    </tr>\n",
       "    <tr>\n",
       "      <th>65689</th>\n",
       "      <td>Japan</td>\n",
       "      <td>JPN</td>\n",
       "      <td>Population, total</td>\n",
       "      <td>SP.POP.TOTL</td>\n",
       "      <td>1962</td>\n",
       "      <td>95832000.0</td>\n",
       "    </tr>\n",
       "    <tr>\n",
       "      <th>94192</th>\n",
       "      <td>Japan</td>\n",
       "      <td>JPN</td>\n",
       "      <td>Population, total</td>\n",
       "      <td>SP.POP.TOTL</td>\n",
       "      <td>1963</td>\n",
       "      <td>96812000.0</td>\n",
       "    </tr>\n",
       "    <tr>\n",
       "      <th>122975</th>\n",
       "      <td>Japan</td>\n",
       "      <td>JPN</td>\n",
       "      <td>Population, total</td>\n",
       "      <td>SP.POP.TOTL</td>\n",
       "      <td>1964</td>\n",
       "      <td>97826000.0</td>\n",
       "    </tr>\n",
       "    <tr>\n",
       "      <th>153748</th>\n",
       "      <td>Japan</td>\n",
       "      <td>JPN</td>\n",
       "      <td>Population, total</td>\n",
       "      <td>SP.POP.TOTL</td>\n",
       "      <td>1965</td>\n",
       "      <td>98883000.0</td>\n",
       "    </tr>\n",
       "    <tr>\n",
       "      <th>185443</th>\n",
       "      <td>Japan</td>\n",
       "      <td>JPN</td>\n",
       "      <td>Population, total</td>\n",
       "      <td>SP.POP.TOTL</td>\n",
       "      <td>1966</td>\n",
       "      <td>99790000.0</td>\n",
       "    </tr>\n",
       "    <tr>\n",
       "      <th>217453</th>\n",
       "      <td>Japan</td>\n",
       "      <td>JPN</td>\n",
       "      <td>Population, total</td>\n",
       "      <td>SP.POP.TOTL</td>\n",
       "      <td>1967</td>\n",
       "      <td>100725000.0</td>\n",
       "    </tr>\n",
       "    <tr>\n",
       "      <th>250068</th>\n",
       "      <td>Japan</td>\n",
       "      <td>JPN</td>\n",
       "      <td>Population, total</td>\n",
       "      <td>SP.POP.TOTL</td>\n",
       "      <td>1968</td>\n",
       "      <td>101061000.0</td>\n",
       "    </tr>\n",
       "    <tr>\n",
       "      <th>282867</th>\n",
       "      <td>Japan</td>\n",
       "      <td>JPN</td>\n",
       "      <td>Population, total</td>\n",
       "      <td>SP.POP.TOTL</td>\n",
       "      <td>1969</td>\n",
       "      <td>103172000.0</td>\n",
       "    </tr>\n",
       "    <tr>\n",
       "      <th>331921</th>\n",
       "      <td>Japan</td>\n",
       "      <td>JPN</td>\n",
       "      <td>Population, total</td>\n",
       "      <td>SP.POP.TOTL</td>\n",
       "      <td>1970</td>\n",
       "      <td>104345000.0</td>\n",
       "    </tr>\n",
       "    <tr>\n",
       "      <th>397683</th>\n",
       "      <td>Japan</td>\n",
       "      <td>JPN</td>\n",
       "      <td>Population, total</td>\n",
       "      <td>SP.POP.TOTL</td>\n",
       "      <td>1971</td>\n",
       "      <td>105697000.0</td>\n",
       "    </tr>\n",
       "    <tr>\n",
       "      <th>466703</th>\n",
       "      <td>Japan</td>\n",
       "      <td>JPN</td>\n",
       "      <td>Population, total</td>\n",
       "      <td>SP.POP.TOTL</td>\n",
       "      <td>1972</td>\n",
       "      <td>107188000.0</td>\n",
       "    </tr>\n",
       "    <tr>\n",
       "      <th>536402</th>\n",
       "      <td>Japan</td>\n",
       "      <td>JPN</td>\n",
       "      <td>Population, total</td>\n",
       "      <td>SP.POP.TOTL</td>\n",
       "      <td>1973</td>\n",
       "      <td>108079000.0</td>\n",
       "    </tr>\n",
       "    <tr>\n",
       "      <th>606310</th>\n",
       "      <td>Japan</td>\n",
       "      <td>JPN</td>\n",
       "      <td>Population, total</td>\n",
       "      <td>SP.POP.TOTL</td>\n",
       "      <td>1974</td>\n",
       "      <td>110162000.0</td>\n",
       "    </tr>\n",
       "    <tr>\n",
       "      <th>677661</th>\n",
       "      <td>Japan</td>\n",
       "      <td>JPN</td>\n",
       "      <td>Population, total</td>\n",
       "      <td>SP.POP.TOTL</td>\n",
       "      <td>1975</td>\n",
       "      <td>111940000.0</td>\n",
       "    </tr>\n",
       "    <tr>\n",
       "      <th>750544</th>\n",
       "      <td>Japan</td>\n",
       "      <td>JPN</td>\n",
       "      <td>Population, total</td>\n",
       "      <td>SP.POP.TOTL</td>\n",
       "      <td>1976</td>\n",
       "      <td>112771000.0</td>\n",
       "    </tr>\n",
       "    <tr>\n",
       "      <th>825138</th>\n",
       "      <td>Japan</td>\n",
       "      <td>JPN</td>\n",
       "      <td>Population, total</td>\n",
       "      <td>SP.POP.TOTL</td>\n",
       "      <td>1977</td>\n",
       "      <td>113863000.0</td>\n",
       "    </tr>\n",
       "    <tr>\n",
       "      <th>900481</th>\n",
       "      <td>Japan</td>\n",
       "      <td>JPN</td>\n",
       "      <td>Population, total</td>\n",
       "      <td>SP.POP.TOTL</td>\n",
       "      <td>1978</td>\n",
       "      <td>114898000.0</td>\n",
       "    </tr>\n",
       "    <tr>\n",
       "      <th>976343</th>\n",
       "      <td>Japan</td>\n",
       "      <td>JPN</td>\n",
       "      <td>Population, total</td>\n",
       "      <td>SP.POP.TOTL</td>\n",
       "      <td>1979</td>\n",
       "      <td>115870000.0</td>\n",
       "    </tr>\n",
       "  </tbody>\n",
       "</table>\n",
       "</div>"
      ],
      "text/plain": [
       "       CountryName CountryCode      IndicatorName IndicatorCode  Year  \\\n",
       "12951        Japan         JPN  Population, total   SP.POP.TOTL  1960   \n",
       "38061        Japan         JPN  Population, total   SP.POP.TOTL  1961   \n",
       "65689        Japan         JPN  Population, total   SP.POP.TOTL  1962   \n",
       "94192        Japan         JPN  Population, total   SP.POP.TOTL  1963   \n",
       "122975       Japan         JPN  Population, total   SP.POP.TOTL  1964   \n",
       "153748       Japan         JPN  Population, total   SP.POP.TOTL  1965   \n",
       "185443       Japan         JPN  Population, total   SP.POP.TOTL  1966   \n",
       "217453       Japan         JPN  Population, total   SP.POP.TOTL  1967   \n",
       "250068       Japan         JPN  Population, total   SP.POP.TOTL  1968   \n",
       "282867       Japan         JPN  Population, total   SP.POP.TOTL  1969   \n",
       "331921       Japan         JPN  Population, total   SP.POP.TOTL  1970   \n",
       "397683       Japan         JPN  Population, total   SP.POP.TOTL  1971   \n",
       "466703       Japan         JPN  Population, total   SP.POP.TOTL  1972   \n",
       "536402       Japan         JPN  Population, total   SP.POP.TOTL  1973   \n",
       "606310       Japan         JPN  Population, total   SP.POP.TOTL  1974   \n",
       "677661       Japan         JPN  Population, total   SP.POP.TOTL  1975   \n",
       "750544       Japan         JPN  Population, total   SP.POP.TOTL  1976   \n",
       "825138       Japan         JPN  Population, total   SP.POP.TOTL  1977   \n",
       "900481       Japan         JPN  Population, total   SP.POP.TOTL  1978   \n",
       "976343       Japan         JPN  Population, total   SP.POP.TOTL  1979   \n",
       "\n",
       "              Value  \n",
       "12951    92500572.0  \n",
       "38061    94943000.0  \n",
       "65689    95832000.0  \n",
       "94192    96812000.0  \n",
       "122975   97826000.0  \n",
       "153748   98883000.0  \n",
       "185443   99790000.0  \n",
       "217453  100725000.0  \n",
       "250068  101061000.0  \n",
       "282867  103172000.0  \n",
       "331921  104345000.0  \n",
       "397683  105697000.0  \n",
       "466703  107188000.0  \n",
       "536402  108079000.0  \n",
       "606310  110162000.0  \n",
       "677661  111940000.0  \n",
       "750544  112771000.0  \n",
       "825138  113863000.0  \n",
       "900481  114898000.0  \n",
       "976343  115870000.0  "
      ]
     },
     "execution_count": 10,
     "metadata": {},
     "output_type": "execute_result"
    }
   ],
   "source": [
    "population_data[0:20]"
   ]
  },
  {
   "cell_type": "code",
   "execution_count": 11,
   "metadata": {
    "scrolled": true
   },
   "outputs": [
    {
     "data": {
      "text/plain": [
       "<matplotlib.axes._subplots.AxesSubplot at 0x1e422a4b4a8>"
      ]
     },
     "execution_count": 11,
     "metadata": {},
     "output_type": "execute_result"
    },
    {
     "data": {
      "image/png": "[encoded data removed]",
      "text/plain": [
       "<Figure size 432x288 with 1 Axes>"
      ]
     },
     "metadata": {
      "needs_background": "light"
     },
     "output_type": "display_data"
    }
   ],
   "source": [
    "sns.lineplot(x='Year',y='Value',data=population_data)"
   ]
  },
  {
   "cell_type": "markdown",
   "metadata": {},
   "source": [
    "# Population growth (annual %)"
   ]
  },
  {
   "cell_type": "code",
   "execution_count": 12,
   "metadata": {},
   "outputs": [],
   "source": [
    "population_data_growth = data[data['IndicatorName'] == 'Population growth (annual %)']"
   ]
  },
  {
   "cell_type": "code",
   "execution_count": 13,
   "metadata": {},
   "outputs": [
    {
     "data": {
      "text/plain": [
       "<matplotlib.axes._subplots.AxesSubplot at 0x1e40ef98e80>"
      ]
     },
     "execution_count": 13,
     "metadata": {},
     "output_type": "execute_result"
    },
    {
     "data": {
      "image/png": "[encoded data removed]",
      "text/plain": [
       "<Figure size 432x288 with 1 Axes>"
      ]
     },
     "metadata": {
      "needs_background": "light"
     },
     "output_type": "display_data"
    }
   ],
   "source": [
    "sns.lineplot(x='Year',y='Value',data=population_data_growth)"
   ]
  },
  {
   "cell_type": "markdown",
   "metadata": {},
   "source": [
    "# gdp"
   ]
  },
  {
   "cell_type": "code",
   "execution_count": 14,
   "metadata": {},
   "outputs": [],
   "source": [
    "data_gdp = data[data['IndicatorName'] == 'GDP per capita (current US$)']"
   ]
  },
  {
   "cell_type": "code",
   "execution_count": 15,
   "metadata": {
    "scrolled": true
   },
   "outputs": [
    {
     "data": {
      "text/html": [
       "<div>\n",
       "<style scoped>\n",
       "    .dataframe tbody tr th:only-of-type {\n",
       "        vertical-align: middle;\n",
       "    }\n",
       "\n",
       "    .dataframe tbody tr th {\n",
       "        vertical-align: top;\n",
       "    }\n",
       "\n",
       "    .dataframe thead th {\n",
       "        text-align: right;\n",
       "    }\n",
       "</style>\n",
       "<table border=\"1\" class=\"dataframe\">\n",
       "  <thead>\n",
       "    <tr style=\"text-align: right;\">\n",
       "      <th></th>\n",
       "      <th>CountryName</th>\n",
       "      <th>CountryCode</th>\n",
       "      <th>IndicatorName</th>\n",
       "      <th>IndicatorCode</th>\n",
       "      <th>Year</th>\n",
       "      <th>Value</th>\n",
       "    </tr>\n",
       "  </thead>\n",
       "  <tbody>\n",
       "    <tr>\n",
       "      <th>12866</th>\n",
       "      <td>Japan</td>\n",
       "      <td>JPN</td>\n",
       "      <td>GDP per capita (current US$)</td>\n",
       "      <td>NY.GDP.PCAP.CD</td>\n",
       "      <td>1960</td>\n",
       "      <td>478.995340</td>\n",
       "    </tr>\n",
       "    <tr>\n",
       "      <th>37968</th>\n",
       "      <td>Japan</td>\n",
       "      <td>JPN</td>\n",
       "      <td>GDP per capita (current US$)</td>\n",
       "      <td>NY.GDP.PCAP.CD</td>\n",
       "      <td>1961</td>\n",
       "      <td>563.586760</td>\n",
       "    </tr>\n",
       "    <tr>\n",
       "      <th>65589</th>\n",
       "      <td>Japan</td>\n",
       "      <td>JPN</td>\n",
       "      <td>GDP per capita (current US$)</td>\n",
       "      <td>NY.GDP.PCAP.CD</td>\n",
       "      <td>1962</td>\n",
       "      <td>633.640315</td>\n",
       "    </tr>\n",
       "    <tr>\n",
       "      <th>94089</th>\n",
       "      <td>Japan</td>\n",
       "      <td>JPN</td>\n",
       "      <td>GDP per capita (current US$)</td>\n",
       "      <td>NY.GDP.PCAP.CD</td>\n",
       "      <td>1963</td>\n",
       "      <td>717.866915</td>\n",
       "    </tr>\n",
       "    <tr>\n",
       "      <th>122872</th>\n",
       "      <td>Japan</td>\n",
       "      <td>JPN</td>\n",
       "      <td>GDP per capita (current US$)</td>\n",
       "      <td>NY.GDP.PCAP.CD</td>\n",
       "      <td>1964</td>\n",
       "      <td>835.657252</td>\n",
       "    </tr>\n",
       "    <tr>\n",
       "      <th>153641</th>\n",
       "      <td>Japan</td>\n",
       "      <td>JPN</td>\n",
       "      <td>GDP per capita (current US$)</td>\n",
       "      <td>NY.GDP.PCAP.CD</td>\n",
       "      <td>1965</td>\n",
       "      <td>919.776688</td>\n",
       "    </tr>\n",
       "    <tr>\n",
       "      <th>185340</th>\n",
       "      <td>Japan</td>\n",
       "      <td>JPN</td>\n",
       "      <td>GDP per capita (current US$)</td>\n",
       "      <td>NY.GDP.PCAP.CD</td>\n",
       "      <td>1966</td>\n",
       "      <td>1058.503561</td>\n",
       "    </tr>\n",
       "    <tr>\n",
       "      <th>217349</th>\n",
       "      <td>Japan</td>\n",
       "      <td>JPN</td>\n",
       "      <td>GDP per capita (current US$)</td>\n",
       "      <td>NY.GDP.PCAP.CD</td>\n",
       "      <td>1967</td>\n",
       "      <td>1228.909210</td>\n",
       "    </tr>\n",
       "    <tr>\n",
       "      <th>249965</th>\n",
       "      <td>Japan</td>\n",
       "      <td>JPN</td>\n",
       "      <td>GDP per capita (current US$)</td>\n",
       "      <td>NY.GDP.PCAP.CD</td>\n",
       "      <td>1968</td>\n",
       "      <td>1450.619652</td>\n",
       "    </tr>\n",
       "    <tr>\n",
       "      <th>282764</th>\n",
       "      <td>Japan</td>\n",
       "      <td>JPN</td>\n",
       "      <td>GDP per capita (current US$)</td>\n",
       "      <td>NY.GDP.PCAP.CD</td>\n",
       "      <td>1969</td>\n",
       "      <td>1669.098200</td>\n",
       "    </tr>\n",
       "    <tr>\n",
       "      <th>331776</th>\n",
       "      <td>Japan</td>\n",
       "      <td>JPN</td>\n",
       "      <td>GDP per capita (current US$)</td>\n",
       "      <td>NY.GDP.PCAP.CD</td>\n",
       "      <td>1970</td>\n",
       "      <td>2003.647047</td>\n",
       "    </tr>\n",
       "    <tr>\n",
       "      <th>397501</th>\n",
       "      <td>Japan</td>\n",
       "      <td>JPN</td>\n",
       "      <td>GDP per capita (current US$)</td>\n",
       "      <td>NY.GDP.PCAP.CD</td>\n",
       "      <td>1971</td>\n",
       "      <td>2234.261666</td>\n",
       "    </tr>\n",
       "    <tr>\n",
       "      <th>466514</th>\n",
       "      <td>Japan</td>\n",
       "      <td>JPN</td>\n",
       "      <td>GDP per capita (current US$)</td>\n",
       "      <td>NY.GDP.PCAP.CD</td>\n",
       "      <td>1972</td>\n",
       "      <td>2917.658976</td>\n",
       "    </tr>\n",
       "    <tr>\n",
       "      <th>536214</th>\n",
       "      <td>Japan</td>\n",
       "      <td>JPN</td>\n",
       "      <td>GDP per capita (current US$)</td>\n",
       "      <td>NY.GDP.PCAP.CD</td>\n",
       "      <td>1973</td>\n",
       "      <td>3931.301627</td>\n",
       "    </tr>\n",
       "    <tr>\n",
       "      <th>606124</th>\n",
       "      <td>Japan</td>\n",
       "      <td>JPN</td>\n",
       "      <td>GDP per capita (current US$)</td>\n",
       "      <td>NY.GDP.PCAP.CD</td>\n",
       "      <td>1974</td>\n",
       "      <td>4281.359928</td>\n",
       "    </tr>\n",
       "    <tr>\n",
       "      <th>677468</th>\n",
       "      <td>Japan</td>\n",
       "      <td>JPN</td>\n",
       "      <td>GDP per capita (current US$)</td>\n",
       "      <td>NY.GDP.PCAP.CD</td>\n",
       "      <td>1975</td>\n",
       "      <td>4581.574389</td>\n",
       "    </tr>\n",
       "    <tr>\n",
       "      <th>750357</th>\n",
       "      <td>Japan</td>\n",
       "      <td>JPN</td>\n",
       "      <td>GDP per capita (current US$)</td>\n",
       "      <td>NY.GDP.PCAP.CD</td>\n",
       "      <td>1976</td>\n",
       "      <td>5111.295149</td>\n",
       "    </tr>\n",
       "    <tr>\n",
       "      <th>824942</th>\n",
       "      <td>Japan</td>\n",
       "      <td>JPN</td>\n",
       "      <td>GDP per capita (current US$)</td>\n",
       "      <td>NY.GDP.PCAP.CD</td>\n",
       "      <td>1977</td>\n",
       "      <td>6230.335688</td>\n",
       "    </tr>\n",
       "    <tr>\n",
       "      <th>900282</th>\n",
       "      <td>Japan</td>\n",
       "      <td>JPN</td>\n",
       "      <td>GDP per capita (current US$)</td>\n",
       "      <td>NY.GDP.PCAP.CD</td>\n",
       "      <td>1978</td>\n",
       "      <td>8675.013997</td>\n",
       "    </tr>\n",
       "    <tr>\n",
       "      <th>976146</th>\n",
       "      <td>Japan</td>\n",
       "      <td>JPN</td>\n",
       "      <td>GDP per capita (current US$)</td>\n",
       "      <td>NY.GDP.PCAP.CD</td>\n",
       "      <td>1979</td>\n",
       "      <td>8953.591520</td>\n",
       "    </tr>\n",
       "  </tbody>\n",
       "</table>\n",
       "</div>"
      ],
      "text/plain": [
       "       CountryName CountryCode                 IndicatorName   IndicatorCode  \\\n",
       "12866        Japan         JPN  GDP per capita (current US$)  NY.GDP.PCAP.CD   \n",
       "37968        Japan         JPN  GDP per capita (current US$)  NY.GDP.PCAP.CD   \n",
       "65589        Japan         JPN  GDP per capita (current US$)  NY.GDP.PCAP.CD   \n",
       "94089        Japan         JPN  GDP per capita (current US$)  NY.GDP.PCAP.CD   \n",
       "122872       Japan         JPN  GDP per capita (current US$)  NY.GDP.PCAP.CD   \n",
       "153641       Japan         JPN  GDP per capita (current US$)  NY.GDP.PCAP.CD   \n",
       "185340       Japan         JPN  GDP per capita (current US$)  NY.GDP.PCAP.CD   \n",
       "217349       Japan         JPN  GDP per capita (current US$)  NY.GDP.PCAP.CD   \n",
       "249965       Japan         JPN  GDP per capita (current US$)  NY.GDP.PCAP.CD   \n",
       "282764       Japan         JPN  GDP per capita (current US$)  NY.GDP.PCAP.CD   \n",
       "331776       Japan         JPN  GDP per capita (current US$)  NY.GDP.PCAP.CD   \n",
       "397501       Japan         JPN  GDP per capita (current US$)  NY.GDP.PCAP.CD   \n",
       "466514       Japan         JPN  GDP per capita (current US$)  NY.GDP.PCAP.CD   \n",
       "536214       Japan         JPN  GDP per capita (current US$)  NY.GDP.PCAP.CD   \n",
       "606124       Japan         JPN  GDP per capita (current US$)  NY.GDP.PCAP.CD   \n",
       "677468       Japan         JPN  GDP per capita (current US$)  NY.GDP.PCAP.CD   \n",
       "750357       Japan         JPN  GDP per capita (current US$)  NY.GDP.PCAP.CD   \n",
       "824942       Japan         JPN  GDP per capita (current US$)  NY.GDP.PCAP.CD   \n",
       "900282       Japan         JPN  GDP per capita (current US$)  NY.GDP.PCAP.CD   \n",
       "976146       Japan         JPN  GDP per capita (current US$)  NY.GDP.PCAP.CD   \n",
       "\n",
       "        Year        Value  \n",
       "12866   1960   478.995340  \n",
       "37968   1961   563.586760  \n",
       "65589   1962   633.640315  \n",
       "94089   1963   717.866915  \n",
       "122872  1964   835.657252  \n",
       "153641  1965   919.776688  \n",
       "185340  1966  1058.503561  \n",
       "217349  1967  1228.909210  \n",
       "249965  1968  1450.619652  \n",
       "282764  1969  1669.098200  \n",
       "331776  1970  2003.647047  \n",
       "397501  1971  2234.261666  \n",
       "466514  1972  2917.658976  \n",
       "536214  1973  3931.301627  \n",
       "606124  1974  4281.359928  \n",
       "677468  1975  4581.574389  \n",
       "750357  1976  5111.295149  \n",
       "824942  1977  6230.335688  \n",
       "900282  1978  8675.013997  \n",
       "976146  1979  8953.591520  "
      ]
     },
     "execution_count": 15,
     "metadata": {},
     "output_type": "execute_result"
    }
   ],
   "source": [
    "data_gdp[0:20]"
   ]
  },
  {
   "cell_type": "code",
   "execution_count": 16,
   "metadata": {},
   "outputs": [
    {
     "data": {
      "text/plain": [
       "<matplotlib.axes._subplots.AxesSubplot at 0x1e40f8d4a90>"
      ]
     },
     "execution_count": 16,
     "metadata": {},
     "output_type": "execute_result"
    },
    {
     "data": {
      "image/png": "[encoded data removed]",
      "text/plain": [
       "<Figure size 432x288 with 1 Axes>"
      ]
     },
     "metadata": {
      "needs_background": "light"
     },
     "output_type": "display_data"
    }
   ],
   "source": [
    "sns.scatterplot(x='Year',y='Value',data=data_gdp)"
   ]
  },
  {
   "cell_type": "code",
   "execution_count": 17,
   "metadata": {},
   "outputs": [
    {
     "data": {
      "text/html": [
       "<div>\n",
       "<style scoped>\n",
       "    .dataframe tbody tr th:only-of-type {\n",
       "        vertical-align: middle;\n",
       "    }\n",
       "\n",
       "    .dataframe tbody tr th {\n",
       "        vertical-align: top;\n",
       "    }\n",
       "\n",
       "    .dataframe thead th {\n",
       "        text-align: right;\n",
       "    }\n",
       "</style>\n",
       "<table border=\"1\" class=\"dataframe\">\n",
       "  <thead>\n",
       "    <tr style=\"text-align: right;\">\n",
       "      <th></th>\n",
       "      <th>Year</th>\n",
       "      <th>Value</th>\n",
       "    </tr>\n",
       "  </thead>\n",
       "  <tbody>\n",
       "    <tr>\n",
       "      <th>Year</th>\n",
       "      <td>1.000000</td>\n",
       "      <td>0.950837</td>\n",
       "    </tr>\n",
       "    <tr>\n",
       "      <th>Value</th>\n",
       "      <td>0.950837</td>\n",
       "      <td>1.000000</td>\n",
       "    </tr>\n",
       "  </tbody>\n",
       "</table>\n",
       "</div>"
      ],
      "text/plain": [
       "           Year     Value\n",
       "Year   1.000000  0.950837\n",
       "Value  0.950837  1.000000"
      ]
     },
     "execution_count": 17,
     "metadata": {},
     "output_type": "execute_result"
    }
   ],
   "source": [
    "data_gdp.corr()"
   ]
  },
  {
   "cell_type": "markdown",
   "metadata": {},
   "source": [
    "# Population, ages 0-14 (% of total)"
   ]
  },
  {
   "cell_type": "code",
   "execution_count": 18,
   "metadata": {
    "scrolled": true
   },
   "outputs": [
    {
     "data": {
      "text/plain": [
       "<matplotlib.axes._subplots.AxesSubplot at 0x1e4197b1400>"
      ]
     },
     "execution_count": 18,
     "metadata": {},
     "output_type": "execute_result"
    },
    {
     "data": {
      "image/png": "[encoded data removed]",
      "text/plain": [
       "<Figure size 432x288 with 1 Axes>"
      ]
     },
     "metadata": {
      "needs_background": "light"
     },
     "output_type": "display_data"
    }
   ],
   "source": [
    "data_0_14_pop = data[data['IndicatorName'] == 'Population, ages 0-14 (% of total)']\n",
    "sns.lineplot(x='Year',y='Value',data=data_0_14_pop)"
   ]
  },
  {
   "cell_type": "markdown",
   "metadata": {},
   "source": [
    "# Population, ages 15-64 (% of total)"
   ]
  },
  {
   "cell_type": "code",
   "execution_count": 19,
   "metadata": {},
   "outputs": [
    {
     "data": {
      "text/plain": [
       "<matplotlib.axes._subplots.AxesSubplot at 0x1e419f550b8>"
      ]
     },
     "execution_count": 19,
     "metadata": {},
     "output_type": "execute_result"
    },
    {
     "data": {
      "image/png": "[encoded data removed]",
      "text/plain": [
       "<Figure size 432x288 with 1 Axes>"
      ]
     },
     "metadata": {
      "needs_background": "light"
     },
     "output_type": "display_data"
    }
   ],
   "source": [
    "data_15_64_pop = data[data['IndicatorName'] == 'Population, ages 15-64 (% of total)']\n",
    "sns.lineplot(x='Year',y='Value',data=data_15_64_pop)"
   ]
  },
  {
   "cell_type": "markdown",
   "metadata": {},
   "source": [
    "# Population ages 65 and above (% of total)"
   ]
  },
  {
   "cell_type": "code",
   "execution_count": 20,
   "metadata": {
    "scrolled": true
   },
   "outputs": [
    {
     "data": {
      "text/plain": [
       "<matplotlib.axes._subplots.AxesSubplot at 0x1e418ccd470>"
      ]
     },
     "execution_count": 20,
     "metadata": {},
     "output_type": "execute_result"
    },
    {
     "data": {
      "image/png": "[encoded data removed]",
      "text/plain": [
       "<Figure size 432x288 with 1 Axes>"
      ]
     },
     "metadata": {
      "needs_background": "light"
     },
     "output_type": "display_data"
    }
   ],
   "source": [
    "data_64_pop = data[data['IndicatorName'] == 'Population ages 65 and above (% of total)']\n",
    "sns.lineplot(x='Year',y='Value',data=data_64_pop)"
   ]
  },
  {
   "cell_type": "markdown",
   "metadata": {},
   "source": [
    "# all age"
   ]
  },
  {
   "cell_type": "code",
   "execution_count": 21,
   "metadata": {},
   "outputs": [
    {
     "data": {
      "text/plain": [
       "<matplotlib.axes._subplots.AxesSubplot at 0x1e411144a58>"
      ]
     },
     "execution_count": 21,
     "metadata": {},
     "output_type": "execute_result"
    },
    {
     "data": {
      "image/png": "[encoded data removed]",
      "text/plain": [
       "<Figure size 432x288 with 1 Axes>"
      ]
     },
     "metadata": {
      "needs_background": "light"
     },
     "output_type": "display_data"
    }
   ],
   "source": [
    "data_0_14_pop = data[data['IndicatorName'] == 'Population, ages 0-14 (% of total)']\n",
    "sns.lineplot(x='Year',y='Value',data=data_0_14_pop,color='pink')\n",
    "data_15_64_pop = data[data['IndicatorName'] == 'Population, ages 15-64 (% of total)']\n",
    "sns.lineplot(x='Year',y='Value',data=data_15_64_pop,color='blue')\n",
    "data_64_pop = data[data['IndicatorName'] == 'Population ages 65 and above (% of total)']\n",
    "sns.lineplot(x='Year',y='Value',data=data_64_pop,color = 'green')"
   ]
  },
  {
   "cell_type": "markdown",
   "metadata": {},
   "source": [
    "# Survival to age 65, female (% of cohort)"
   ]
  },
  {
   "cell_type": "code",
   "execution_count": 22,
   "metadata": {},
   "outputs": [
    {
     "data": {
      "text/plain": [
       "<matplotlib.axes._subplots.AxesSubplot at 0x1e40f8af0b8>"
      ]
     },
     "execution_count": 22,
     "metadata": {},
     "output_type": "execute_result"
    },
    {
     "data": {
      "image/png": "[encoded data removed]",
      "text/plain": [
       "<Figure size 432x288 with 1 Axes>"
      ]
     },
     "metadata": {
      "needs_background": "light"
     },
     "output_type": "display_data"
    }
   ],
   "source": [
    "data_64_pop = data[data['IndicatorName'] == 'Survival to age 65, female (% of cohort)']\n",
    "sns.lineplot(x='Year',y='Value',data=data_64_pop)\n",
    "data_64_pop = data[data['IndicatorName'] == 'Survival to age 65, male (% of cohort)']\n",
    "sns.lineplot(x='Year',y='Value',data=data_64_pop,color='red')"
   ]
  },
  {
   "cell_type": "markdown",
   "metadata": {},
   "source": [
    "# Agricultural land (sq. km)"
   ]
  },
  {
   "cell_type": "code",
   "execution_count": 23,
   "metadata": {},
   "outputs": [
    {
     "data": {
      "text/plain": [
       "<matplotlib.axes._subplots.AxesSubplot at 0x1e40f279320>"
      ]
     },
     "execution_count": 23,
     "metadata": {},
     "output_type": "execute_result"
    },
    {
     "data": {
      "image/png": "[encoded data removed]",
      "text/plain": [
       "<Figure size 432x288 with 1 Axes>"
      ]
     },
     "metadata": {
      "needs_background": "light"
     },
     "output_type": "display_data"
    }
   ],
   "source": [
    "data_64_pop = data[data['IndicatorName'] == 'Agricultural land (sq. km)']\n",
    "sns.lineplot(x='Year',y='Value',data=data_64_pop)"
   ]
  },
  {
   "cell_type": "markdown",
   "metadata": {},
   "source": [
    "# CO2 emissions (kt)\n"
   ]
  },
  {
   "cell_type": "code",
   "execution_count": 24,
   "metadata": {},
   "outputs": [
    {
     "data": {
      "text/plain": [
       "<matplotlib.axes._subplots.AxesSubplot at 0x1e40f2cb2b0>"
      ]
     },
     "execution_count": 24,
     "metadata": {},
     "output_type": "execute_result"
    },
    {
     "data": {
      "image/png": "[encoded data removed]",
      "text/plain": [
       "<Figure size 432x288 with 1 Axes>"
      ]
     },
     "metadata": {
      "needs_background": "light"
     },
     "output_type": "display_data"
    }
   ],
   "source": [
    "data_64_pop = data[data['IndicatorName'] == 'CO2 emissions (kt)']\n",
    "sns.lineplot(x='Year',y='Value',data=data_64_pop)"
   ]
  },
  {
   "cell_type": "markdown",
   "metadata": {},
   "source": [
    "# Population density (people per sq. km of land area)"
   ]
  },
  {
   "cell_type": "code",
   "execution_count": 25,
   "metadata": {
    "scrolled": true
   },
   "outputs": [
    {
     "data": {
      "text/plain": [
       "<matplotlib.axes._subplots.AxesSubplot at 0x1e40f57db00>"
      ]
     },
     "execution_count": 25,
     "metadata": {},
     "output_type": "execute_result"
    },
    {
     "data": {
      "image/png": "[encoded data removed]",
      "text/plain": [
       "<Figure size 432x288 with 1 Axes>"
      ]
     },
     "metadata": {
      "needs_background": "light"
     },
     "output_type": "display_data"
    }
   ],
   "source": [
    "data_64_pop = data[data['IndicatorName'] == 'Population density (people per sq. km of land area)']\n",
    "sns.lineplot(x='Year',y='Value',data=data_64_pop)"
   ]
  },
  {
   "cell_type": "markdown",
   "metadata": {},
   "source": [
    "# GNI per capita (current LCU)"
   ]
  },
  {
   "cell_type": "code",
   "execution_count": 26,
   "metadata": {},
   "outputs": [
    {
     "data": {
      "text/plain": [
       "<matplotlib.axes._subplots.AxesSubplot at 0x1e40f5d2550>"
      ]
     },
     "execution_count": 26,
     "metadata": {},
     "output_type": "execute_result"
    },
    {
     "data": {
      "image/png": "[encoded data removed]",
      "text/plain": [
       "<Figure size 432x288 with 1 Axes>"
      ]
     },
     "metadata": {
      "needs_background": "light"
     },
     "output_type": "display_data"
    }
   ],
   "source": [
    "data_64_pop = data[data['IndicatorName'] == 'GNI per capita (current LCU)']\n",
    "sns.lineplot(x='Year',y='Value',data=data_64_pop)"
   ]
  },
  {
   "cell_type": "markdown",
   "metadata": {},
   "source": [
    "# Trade (% of GDP)"
   ]
  },
  {
   "cell_type": "code",
   "execution_count": 27,
   "metadata": {},
   "outputs": [
    {
     "data": {
      "text/plain": [
       "<matplotlib.axes._subplots.AxesSubplot at 0x1e40f57d7b8>"
      ]
     },
     "execution_count": 27,
     "metadata": {},
     "output_type": "execute_result"
    },
    {
     "data": {
      "image/png": "[encoded data removed]",
      "text/plain": [
       "<Figure size 432x288 with 1 Axes>"
      ]
     },
     "metadata": {
      "needs_background": "light"
     },
     "output_type": "display_data"
    }
   ],
   "source": [
    "data_64_pop = data[data['IndicatorName'] == 'Trade (% of GDP)']\n",
    "sns.lineplot(x='Year',y='Value',data=data_64_pop)"
   ]
  },
  {
   "cell_type": "markdown",
   "metadata": {},
   "source": [
    "# Urban vs Rural"
   ]
  },
  {
   "cell_type": "code",
   "execution_count": 28,
   "metadata": {},
   "outputs": [
    {
     "data": {
      "text/plain": [
       "<matplotlib.axes._subplots.AxesSubplot at 0x1e40f6302e8>"
      ]
     },
     "execution_count": 28,
     "metadata": {},
     "output_type": "execute_result"
    },
    {
     "data": {
      "image/png": "[encoded data removed]",
      "text/plain": [
       "<Figure size 432x288 with 1 Axes>"
      ]
     },
     "metadata": {
      "needs_background": "light"
     },
     "output_type": "display_data"
    }
   ],
   "source": [
    "data_64_pop = data[data['IndicatorName'] == 'Urban population']\n",
    "sns.lineplot(x='Year',y='Value',data=data_64_pop,color = 'red')\n",
    "data_64_pop = data[data['IndicatorName'] == 'Rural population']\n",
    "sns.lineplot(x='Year',y='Value',data=data_64_pop,color = 'blue')"
   ]
  },
  {
   "cell_type": "markdown",
   "metadata": {},
   "source": [
    "# Net income from abroad (current US$)"
   ]
  },
  {
   "cell_type": "code",
   "execution_count": 29,
   "metadata": {},
   "outputs": [
    {
     "data": {
      "text/plain": [
       "<matplotlib.axes._subplots.AxesSubplot at 0x1e40f6e5438>"
      ]
     },
     "execution_count": 29,
     "metadata": {},
     "output_type": "execute_result"
    },
    {
     "data": {
      "image/png": "[encoded data removed]",
      "text/plain": [
       "<Figure size 432x288 with 1 Axes>"
      ]
     },
     "metadata": {
      "needs_background": "light"
     },
     "output_type": "display_data"
    }
   ],
   "source": [
    "data_64_pop = data[data['IndicatorName'] == 'Net income from abroad (current US$)']\n",
    "sns.lineplot(x='Year',y='Value',data=data_64_pop,color = 'blue')"
   ]
  },
  {
   "cell_type": "markdown",
   "metadata": {},
   "source": [
    "# Fossil fuel energy consumption (% of total)"
   ]
  },
  {
   "cell_type": "code",
   "execution_count": 30,
   "metadata": {},
   "outputs": [
    {
     "data": {
      "text/plain": [
       "<matplotlib.axes._subplots.AxesSubplot at 0x1e40f7279e8>"
      ]
     },
     "execution_count": 30,
     "metadata": {},
     "output_type": "execute_result"
    },
    {
     "data": {
      "image/png": "[encoded data removed]",
      "text/plain": [
       "<Figure size 432x288 with 1 Axes>"
      ]
     },
     "metadata": {
      "needs_background": "light"
     },
     "output_type": "display_data"
    }
   ],
   "source": [
    "data_64_pop = data[data['IndicatorName'] == 'Fossil fuel energy consumption (% of total)']\n",
    "sns.lineplot(x='Year',y='Value',data=data_64_pop,color = 'blue')\n"
   ]
  },
  {
   "cell_type": "markdown",
   "metadata": {},
   "source": [
    "# Electricity production from renewable sources, excluding hydroelectric (kWh)"
   ]
  },
  {
   "cell_type": "code",
   "execution_count": 31,
   "metadata": {},
   "outputs": [
    {
     "data": {
      "text/plain": [
       "<matplotlib.axes._subplots.AxesSubplot at 0x1e40f76ba58>"
      ]
     },
     "execution_count": 31,
     "metadata": {},
     "output_type": "execute_result"
    },
    {
     "data": {
      "image/png": "[encoded data removed]",
      "text/plain": [
       "<Figure size 432x288 with 1 Axes>"
      ]
     },
     "metadata": {
      "needs_background": "light"
     },
     "output_type": "display_data"
    }
   ],
   "source": [
    "data_64_pop = data[data['IndicatorName'] == 'Electricity production from renewable sources, excluding hydroelectric (kWh)']\n",
    "sns.lineplot(x='Year',y='Value',data=data_64_pop,color = 'red')"
   ]
  },
  {
   "cell_type": "markdown",
   "metadata": {},
   "source": [
    "# Alternative and nuclear energy (% of total energy use)"
   ]
  },
  {
   "cell_type": "code",
   "execution_count": 32,
   "metadata": {},
   "outputs": [
    {
     "data": {
      "text/plain": [
       "<matplotlib.axes._subplots.AxesSubplot at 0x1e40f72e978>"
      ]
     },
     "execution_count": 32,
     "metadata": {},
     "output_type": "execute_result"
    },
    {
     "data": {
      "image/png": "[encoded data removed]",
      "text/plain": [
       "<Figure size 432x288 with 1 Axes>"
      ]
     },
     "metadata": {
      "needs_background": "light"
     },
     "output_type": "display_data"
    }
   ],
   "source": [
    "data_64_pop = data[data['IndicatorName'] == 'Alternative and nuclear energy (% of total energy use)']\n",
    "sns.lineplot(x='Year',y='Value',data=data_64_pop,color = 'red')"
   ]
  },
  {
   "cell_type": "markdown",
   "metadata": {},
   "source": [
    "# energy consumtion\n"
   ]
  },
  {
   "cell_type": "code",
   "execution_count": 33,
   "metadata": {},
   "outputs": [
    {
     "data": {
      "text/plain": [
       "<matplotlib.axes._subplots.AxesSubplot at 0x1e40f8397f0>"
      ]
     },
     "execution_count": 33,
     "metadata": {},
     "output_type": "execute_result"
    },
    {
     "data": {
      "image/png": "[encoded data removed]",
      "text/plain": [
       "<Figure size 432x288 with 1 Axes>"
      ]
     },
     "metadata": {
      "needs_background": "light"
     },
     "output_type": "display_data"
    }
   ],
   "source": [
    "data_64_pop = data[data['IndicatorName'] == 'Fossil fuel energy consumption (% of total)']\n",
    "sns.lineplot(x='Year',y='Value',data=data_64_pop,color = 'blue')\n",
    "data_64_pop = data[data['IndicatorName'] == 'Alternative and nuclear energy (% of total energy use)']\n",
    "sns.lineplot(x='Year',y='Value',data=data_64_pop,color = 'red')"
   ]
  }
 ],
 "metadata": {
  "kernelspec": {
   "display_name": "Python 3",
   "language": "python",
   "name": "python3"
  },
  "language_info": {
   "codemirror_mode": {
    "name": "ipython",
    "version": 3
   },
   "file_extension": ".py",
   "mimetype": "text/x-python",
   "name": "python",
   "nbconvert_exporter": "python",
   "pygments_lexer": "ipython3",
   "version": "3.7.1"
  }
 },
 "nbformat": 4,
 "nbformat_minor": 2
}
